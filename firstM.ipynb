{
 "cells": [
  {
   "cell_type": "code",
   "execution_count": 1,
   "metadata": {},
   "outputs": [],
   "source": [
    "from zipfile import ZipFile\n",
    "#Make Sure that all the zip files are in succesive order audio0.zip , audio1.zip , audio2.zip \n",
    "#change the range(10) if it contains 10 zip files(10 speakers)\n",
    "for i in range(2):\n",
    "    zipTest = ZipFile(r'''/home/fractaluser/Desktop/test/voice-classification-master/audioInputs2/audio{}.zip'''.format(i), 'r')\n",
    "    zipTest.extractall(r'''/home/fractaluser/Desktop/test/voice-classification-master/audioInputs2/audio{}'''.format(i))"
   ]
  },
  {
   "cell_type": "code",
   "execution_count": 3,
   "metadata": {},
   "outputs": [],
   "source": [
    "from pydub import AudioSegment\n",
    "import os\n",
    "from os import listdir\n",
    "from os.path import isfile, join"
   ]
  },
  {
   "cell_type": "code",
   "execution_count": 4,
   "metadata": {},
   "outputs": [
    {
     "name": "stdout",
     "output_type": "stream",
     "text": [
      "/home/fractaluser/SpeakAI\n"
     ]
    }
   ],
   "source": [
    "import os\n",
    "print(os.getcwd())"
   ]
  },
  {
   "cell_type": "code",
   "execution_count": 7,
   "metadata": {},
   "outputs": [],
   "source": [
    "#Conversion of mp3 to wav File\n",
    "from pydub import AudioSegment\n",
    "import os\n",
    "from os import listdir\n",
    "from os.path import isfile, join\n",
    "\n",
    "AudioSegment.converter = r\"ffmpeg\"#r\"/usr/local/lib/python2.7/dist-packages/tensorflow/contrib/ffmpeg\"\n",
    "#change the range(10)\n",
    "for i in range(2):\n",
    "    files = os.listdir(r'''./data/train/audio{}'''.format(i))\n",
    "    \n",
    "    if not os.path.exists(r'''./data/train/wav{}'''.format(i)):\n",
    "        os.makedirs(r'''/./data/train/wav{}'''.format(i))\n",
    "    \n",
    "    count = 1\n",
    "    limit = 0\n",
    "    for f in files:\n",
    "        if(limit == 720): break\n",
    "        sound = AudioSegment.from_mp3(r'''./data/train/audio{}/{}'''.format(i, f))\n",
    "        out_f = sound.export(r'''./data/train/wav{}/{}.wav'''.format(i, count), format=\"wav\")\n",
    "        out_f.close()\n",
    "        count = count + 1\n",
    "        limit = limit + 1"
   ]
  },
  {
   "cell_type": "code",
   "execution_count": 3,
   "metadata": {},
   "outputs": [],
   "source": [
    "#Cutting down the .wav file(multiple wav files per directory) to 5 seconds interval\n",
    "import subprocess\n",
    "#change the range(10)\n",
    "for i in range(2):\n",
    "    in_path = os.listdir('./data/train/wav{}'.format(i))\n",
    "    if not os.path.exists(r'''./data/train/wavs{}'''.format(i)):\n",
    "        os.makedirs(r'''./data/train/wavs{}'''.format(i))    \n",
    "    for z in in_path:\n",
    "        r = './data/train/wav{}/'.format(i)+z  \n",
    "        out_path = './data/train/wavs{}/out%03d{}'.format(i,z)\n",
    "        subprocess.call(['ffmpeg', '-i', r, '-f', 'segment','-segment_time', '5', '-c', 'copy', out_path])"
   ]
  },
  {
   "cell_type": "code",
   "execution_count": 67,
   "metadata": {},
   "outputs": [],
   "source": []
  },
  {
   "cell_type": "code",
   "execution_count": 4,
   "metadata": {},
   "outputs": [
    {
     "name": "stderr",
     "output_type": "stream",
     "text": [
      "/usr/local/lib/python2.7/dist-packages/h5py/__init__.py:36: FutureWarning: Conversion of the second argument of issubdtype from `float` to `np.floating` is deprecated. In future, it will be treated as `np.float64 == np.dtype(float).type`.\n",
      "  from ._conv import register_converters as _register_converters\n"
     ]
    }
   ],
   "source": [
    "import glob\n",
    "import os\n",
    "import librosa\n",
    "import numpy as np\n",
    "import matplotlib.pyplot as plt\n",
    "import tensorflow as tf\n",
    "from matplotlib.pyplot import specgram"
   ]
  },
  {
   "cell_type": "code",
   "execution_count": 5,
   "metadata": {},
   "outputs": [],
   "source": [
    "def load_sound_files(file_paths):\n",
    "    raw_sounds = []\n",
    "    for fp in file_paths:\n",
    "        X,sr = librosa.load(fp)\n",
    "        raw_sounds.append(X)\n",
    "    return raw_sounds\n",
    "\n",
    "\n",
    "def plot_specgram(raw_sounds):\n",
    "#     fig = plt.figure()\n",
    "#     fig.subplots_adjust(left=0,right=1,bottom=0,top=1)\n",
    "    for f in raw_sounds:\n",
    "        plt.subplots(1)\n",
    "#         plt.subplots_adjust(left=0,right=1,bottom=0,top=1)\n",
    "#         plt.margins(x=0)\n",
    "        specgram(np.array(f), Fs=sr)\n",
    "#         plt.axis('tight')\n",
    "        plt.axis('off')\n",
    "#         plt.show()\n",
    "        plt.savefig(\"test.png\", bbox_inches='tight')"
   ]
  },
  {
   "cell_type": "code",
   "execution_count": 12,
   "metadata": {
    "scrolled": true
   },
   "outputs": [
    {
     "name": "stdout",
     "output_type": "stream",
     "text": [
      "['out0041.wav', 'out0051.wav', 'out0021.wav', 'out0031.wav', 'out0011.wav', 'out0001.wav']\n",
      "sox \"./data/train/wavs0/out0041.wav\" -n spectrogram -r -o \"./data/train/speaker0/1.png\"\n",
      "sox \"./data/train/wavs0/out0051.wav\" -n spectrogram -r -o \"./data/train/speaker0/2.png\"\n",
      "sox \"./data/train/wavs0/out0021.wav\" -n spectrogram -r -o \"./data/train/speaker0/3.png\"\n",
      "sox \"./data/train/wavs0/out0031.wav\" -n spectrogram -r -o \"./data/train/speaker0/4.png\"\n",
      "sox \"./data/train/wavs0/out0011.wav\" -n spectrogram -r -o \"./data/train/speaker0/5.png\"\n",
      "sox \"./data/train/wavs0/out0001.wav\" -n spectrogram -r -o \"./data/train/speaker0/6.png\"\n"
     ]
    }
   ],
   "source": [
    "#Spectrogram of 5 sec wav files\n",
    "import subprocess\n",
    "#import sox\n",
    "# 513 800 3\n",
    "#change the range(10)\n",
    "for i in range(1):\n",
    "    files = os.listdir(r'''./data/train/wavs{}'''.format(i))\n",
    "    \n",
    "    if not os.path.exists(r'''./data/train/speaker{}'''.format(i)):\n",
    "        os.makedirs(r'''./data/train/speaker{}'''.format(i))\n",
    "    \n",
    "    count = 1\n",
    "    print(files)\n",
    "    for f in files:\n",
    "        cmdstring = 'sox \"{}\" -n spectrogram -r -o \"{}\"'.format(r'''./data/train/wavs{}/{}'''.format(i, f), r'''./data/train/speaker{}/{}.png'''.format(i, count))\n",
    "        print(cmdstring)\n",
    "        subprocess.call(cmdstring, shell=True)\n",
    "        count = count + 1"
   ]
  },
  {
   "cell_type": "code",
   "execution_count": 58,
   "metadata": {},
   "outputs": [
    {
     "name": "stdout",
     "output_type": "stream",
     "text": [
      "['celebratedcrimesv7p2_01_dumas_64kb.mp3', 'celebratedcrimesv7p2_04_dumas_64kb.mp3', 'celebratedcrimesv7p2_02_dumas_64kb.mp3', 'celebratedcrimesv7p2_03_dumas_64kb.mp3']\n",
      "celebratedcrimesv7p2_01_dumas_64kb.mp3\n",
      "celebratedcrimesv7p2_04_dumas_64kb.mp3\n",
      "celebratedcrimesv7p2_02_dumas_64kb.mp3\n",
      "celebratedcrimesv7p2_03_dumas_64kb.mp3\n",
      "['rubaiyatmiscellany2_09_various_64kb.mp3', 'rubaiyatmiscellany2_06_various_64kb.mp3', 'rubaiyatmiscellany2_04_various_64kb.mp3', 'rubaiyatmiscellany2_02_various_64kb.mp3', 'rubaiyatmiscellany2_05_various_64kb.mp3', 'rubaiyatmiscellany2_07_various_64kb.mp3', 'rubaiyatmiscellany2_10_various_64kb.mp3', 'rubaiyatmiscellany2_03_various_64kb.mp3', 'rubaiyatmiscellany2_08_various_64kb.mp3', 'rubaiyatmiscellany2_01_various_64kb.mp3']\n",
      "rubaiyatmiscellany2_09_various_64kb.mp3\n",
      "rubaiyatmiscellany2_06_various_64kb.mp3\n",
      "rubaiyatmiscellany2_04_various_64kb.mp3\n",
      "rubaiyatmiscellany2_02_various_64kb.mp3\n",
      "rubaiyatmiscellany2_05_various_64kb.mp3\n",
      "rubaiyatmiscellany2_07_various_64kb.mp3\n",
      "rubaiyatmiscellany2_10_various_64kb.mp3\n",
      "rubaiyatmiscellany2_03_various_64kb.mp3\n",
      "rubaiyatmiscellany2_08_various_64kb.mp3\n",
      "rubaiyatmiscellany2_01_various_64kb.mp3\n"
     ]
    }
   ],
   "source": [
    "#for i in range(2):\n",
    "#    files = os.listdir(r'''/home/fractaluser/Desktop/test/voice-classification-master/audioInputs/audio{}'''.format(i))\n",
    "#    print(files)\n",
    "#    for f in files:\n",
    "#        print(f)"
   ]
  },
  {
   "cell_type": "code",
   "execution_count": 40,
   "metadata": {},
   "outputs": [
    {
     "name": "stdout",
     "output_type": "stream",
     "text": [
      "['celebratedcrimesv7p2_01_dumas_64kb.mp3', 'celebratedcrimesv7p2_04_dumas_64kb.mp3', 'celebratedcrimesv7p2_02_dumas_64kb.mp3', 'celebratedcrimesv7p2_03_dumas_64kb.mp3']\n"
     ]
    }
   ],
   "source": [
    "# files = os.listdir(r'''/home/fractaluser/Desktop/test/voice-classification-master/audioInputs/audio{}'''.format(i))\n",
    "# print(files)"
   ]
  },
  {
   "cell_type": "code",
   "execution_count": 70,
   "metadata": {},
   "outputs": [
    {
     "name": "stdout",
     "output_type": "stream",
     "text": [
      "4.wav\n",
      "2.wav\n",
      "9.wav\n",
      "10.wav\n",
      "1.wav\n",
      "8.wav\n",
      "3.wav\n",
      "7.wav\n",
      "6.wav\n",
      "5.wav\n"
     ]
    }
   ],
   "source": [
    "# in_path = os.listdir('/home/fractaluser/Desktop/test/voice-classification-master/audioInputs/wav{}'.format(i))\n",
    "# for f in in_path:\n",
    "#     print(f)"
   ]
  },
  {
   "cell_type": "code",
   "execution_count": 63,
   "metadata": {},
   "outputs": [
    {
     "name": "stdout",
     "output_type": "stream",
     "text": [
      "/home/fractaluser/Desktop/test/voice-classification-master/audioInputs/wavs1/out%03d.wav\n"
     ]
    }
   ],
   "source": [
    "# out_path = '/home/fractaluser/Desktop/test/voice-classification-master/audioInputs/wavs{}/out%03d.wav'.format(i)\n",
    "# print(out_path)"
   ]
  },
  {
   "cell_type": "code",
   "execution_count": null,
   "metadata": {},
   "outputs": [],
   "source": []
  }
 ],
 "metadata": {
  "kernelspec": {
   "display_name": "Python 2",
   "language": "python",
   "name": "python2"
  },
  "language_info": {
   "codemirror_mode": {
    "name": "ipython",
    "version": 2
   },
   "file_extension": ".py",
   "mimetype": "text/x-python",
   "name": "python",
   "nbconvert_exporter": "python",
   "pygments_lexer": "ipython2",
   "version": "2.7.12"
  }
 },
 "nbformat": 4,
 "nbformat_minor": 2
}
